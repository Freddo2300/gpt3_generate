{
 "cells": [
  {
   "cell_type": "markdown",
   "metadata": {
    "id": "2DVITNvygkSW"
   },
   "source": [
    "## Step 1: Handle imports and import relevant csv files"
   ]
  },
  {
   "cell_type": "code",
   "execution_count": null,
   "metadata": {
    "executionInfo": {
     "elapsed": 6405,
     "status": "ok",
     "timestamp": 1653039217507,
     "user": {
      "displayName": "Frederik Strøm Friborg",
      "userId": "08269675509979250915"
     },
     "user_tz": -120
    },
    "id": "sTbNsujp8I--"
   },
   "outputs": [],
   "source": [
    "!pip install -qqq language-tool-python xgboost"
   ]
  },
  {
   "cell_type": "code",
   "execution_count": null,
   "metadata": {
    "colab": {
     "base_uri": "https://localhost:8080/"
    },
    "executionInfo": {
     "elapsed": 3402,
     "status": "ok",
     "timestamp": 1653039224965,
     "user": {
      "displayName": "Frederik Strøm Friborg",
      "userId": "08269675509979250915"
     },
     "user_tz": -120
    },
    "id": "UzcCNbnHgrZ2",
    "outputId": "138a795a-28d5-49ab-9503-ecda69c866fc"
   },
   "outputs": [],
   "source": [
    "import numpy as np\n",
    "import pandas as pd\n",
    "from pandas.plotting import table\n",
    "import os\n",
    "import spacy\n",
    "\n",
    "import matplotlib.pyplot as plt\n",
    "from google.colab import drive\n",
    "import seaborn as sns\n",
    "\n",
    "from sklearn.feature_extraction.text import TfidfVectorizer, CountVectorizer\n",
    "from sklearn.model_selection import train_test_split\n",
    "from sklearn.naive_bayes import MultinomialNB\n",
    "from sklearn.svm import SVC\n",
    "from sklearn.neural_network import MLPClassifier\n",
    "from sklearn.dummy import DummyClassifier\n",
    "from sklearn.metrics import f1_score, accuracy_score, recall_score, roc_auc_score, precision_score, ConfusionMatrixDisplay\n",
    "from sklearn.model_selection import GridSearchCV\n",
    "from sklearn.preprocessing import StandardScaler\n",
    "\n",
    "import xgboost as xgb\n",
    "\n",
    "import re\n",
    "import nltk\n",
    "nltk.download(\"stopwords\")\n",
    "nltk.download(\"wordnet\")\n",
    "\n",
    "from nltk.stem import WordNetLemmatizer\n",
    "from nltk.corpus import stopwords"
   ]
  },
  {
   "cell_type": "code",
   "execution_count": null,
   "metadata": {
    "colab": {
     "base_uri": "https://localhost:8080/"
    },
    "executionInfo": {
     "elapsed": 21514,
     "status": "ok",
     "timestamp": 1653039250479,
     "user": {
      "displayName": "Frederik Strøm Friborg",
      "userId": "08269675509979250915"
     },
     "user_tz": -120
    },
    "id": "b7x2R-b-4wZO",
    "outputId": "d3723078-dc6a-43e6-c04a-3cc0d5378dac"
   },
   "outputs": [],
   "source": [
    "if not os.path.exists(\"drive\"): \n",
    "    drive.mount(\"/content/drive\")"
   ]
  },
  {
   "cell_type": "markdown",
   "metadata": {
    "id": "iqXjG9o4kG-G"
   },
   "source": [
    "## Step 2: Data preprocessing"
   ]
  },
  {
   "cell_type": "code",
   "execution_count": null,
   "metadata": {
    "id": "ALbBWTUD6tDt"
   },
   "outputs": [],
   "source": [
    "if not os.path.exists(\"/content/drive/MyDrive/UNIVERSITET/08_semester/Artificial Intelligence & Machine Learning/Code/gpt3_produced_final.csv\"):\n",
    "    path = input()\n",
    "else:\n",
    "    path = \"/content/drive/MyDrive/UNIVERSITET/08_semester/Artificial Intelligence & Machine Learning/Code/gpt3_produced_final.csv\""
   ]
  },
  {
   "cell_type": "code",
   "execution_count": null,
   "metadata": {
    "colab": {
     "base_uri": "https://localhost:8080/"
    },
    "executionInfo": {
     "elapsed": 717,
     "status": "ok",
     "timestamp": 1652868391080,
     "user": {
      "displayName": "Frederik Strøm Friborg",
      "userId": "08269675509979250915"
     },
     "user_tz": -120
    },
    "id": "DXZzYZb-7G1B",
    "outputId": "93c63112-d764-448a-e7f5-013c24b37abc"
   },
   "outputs": [],
   "source": [
    "df_gpt3 = pd.read_csv(path)\n",
    "len(df_gpt3)"
   ]
  },
  {
   "cell_type": "code",
   "execution_count": null,
   "metadata": {
    "colab": {
     "base_uri": "https://localhost:8080/",
     "height": 424
    },
    "executionInfo": {
     "elapsed": 279,
     "status": "ok",
     "timestamp": 1651923862755,
     "user": {
      "displayName": "Frederik Strøm Friborg",
      "userId": "08269675509979250915"
     },
     "user_tz": -120
    },
    "id": "VP1oQqT97KMX",
    "outputId": "55dfefbf-e269-4f82-8147-213256129d3e"
   },
   "outputs": [],
   "source": [
    "df_gpt3"
   ]
  },
  {
   "cell_type": "code",
   "execution_count": null,
   "metadata": {
    "id": "370vhSV4US9L"
   },
   "outputs": [],
   "source": [
    "df_gpt3 = df_gpt3.drop(columns=[\"content\"])"
   ]
  },
  {
   "cell_type": "code",
   "execution_count": null,
   "metadata": {
    "colab": {
     "base_uri": "https://localhost:8080/",
     "height": 424
    },
    "executionInfo": {
     "elapsed": 17,
     "status": "ok",
     "timestamp": 1652363843096,
     "user": {
      "displayName": "Frederik Strøm Friborg",
      "userId": "08269675509979250915"
     },
     "user_tz": -120
    },
    "id": "l0Y6pw29VgSc",
    "outputId": "b78b4d09-5f52-4bd2-c491-b372b52db8c3"
   },
   "outputs": [],
   "source": [
    "df_gpt3.rename(columns={\"gpt3\": \"content\"}, inplace=True)\n",
    "df_gpt3"
   ]
  },
  {
   "cell_type": "code",
   "execution_count": null,
   "metadata": {
    "id": "t4GGAoWqVMyG"
   },
   "outputs": [],
   "source": [
    "stop_words = stopwords.words(\"english\")\n",
    "lemmatizer = WordNetLemmatizer()\n",
    "\n",
    "def regex_content(text):\n",
    "    text = re.sub('http\\S+', ' ', text)\n",
    "    text = re.sub('[^a-zA-Z]', ' ', text)\n",
    "    return text.lower()\n",
    "\n",
    "def tokenize(text):\n",
    "    tokens = re.split('\\s+', text)\n",
    "    tokens = [tok for tok in tokens if tok not in stop_words]\n",
    "    return tokens\n",
    "\n",
    "def lemmatize(tokens):\n",
    "    lemms = [lemmatizer.lemmatize(tok) for tok in tokens]\n",
    "    return lemms\n",
    "\n",
    "def join_lemmas(lemmas):\n",
    "    lemmas = re.sub(\"[^a-zA-Z]\", \"\", lemmas)\n",
    "    return lemmas"
   ]
  },
  {
   "cell_type": "code",
   "execution_count": null,
   "metadata": {
    "id": "g1K7oRZpV5CJ"
   },
   "outputs": [],
   "source": [
    "df_gpt3['regexed'] = df_gpt3['content'].apply(lambda x: regex_content(x))\n",
    "df_gpt3['tokens'] = df_gpt3['regexed'].apply(lambda x: tokenize(x))\n",
    "df_gpt3[\"lemmas\"] = df_gpt3[\"tokens\"].apply(lambda x: lemmatize(x))\n",
    "df_gpt3[\"joined\"] = df_gpt3[\"lemmas\"].apply(lambda x: \" \".join(x))\n",
    "df_gpt3[\"target\"] = 1"
   ]
  },
  {
   "cell_type": "code",
   "execution_count": null,
   "metadata": {
    "colab": {
     "base_uri": "https://localhost:8080/",
     "height": 659
    },
    "executionInfo": {
     "elapsed": 634,
     "status": "ok",
     "timestamp": 1652363862392,
     "user": {
      "displayName": "Frederik Strøm Friborg",
      "userId": "08269675509979250915"
     },
     "user_tz": -120
    },
    "id": "IsvUDx4waR3C",
    "outputId": "9fb1c5ef-b6eb-4667-ee67-0e8c6a041934"
   },
   "outputs": [],
   "source": [
    "df_gpt3"
   ]
  },
  {
   "cell_type": "code",
   "execution_count": null,
   "metadata": {
    "colab": {
     "base_uri": "https://localhost:8080/"
    },
    "executionInfo": {
     "elapsed": 421,
     "status": "ok",
     "timestamp": 1652363867806,
     "user": {
      "displayName": "Frederik Strøm Friborg",
      "userId": "08269675509979250915"
     },
     "user_tz": -120
    },
    "id": "0F1aSKDtNhlx",
    "outputId": "b94d83f6-733d-4900-8421-56002164c462"
   },
   "outputs": [],
   "source": [
    "df_classifier = pd.read_csv(\"/content/drive/MyDrive/UNIVERSITET/08_semester/Artificial Intelligence & Machine Learning/Code/gpt3_promts.csv\")\n",
    "len(df_classifier)"
   ]
  },
  {
   "cell_type": "code",
   "execution_count": null,
   "metadata": {
    "colab": {
     "base_uri": "https://localhost:8080/",
     "height": 641
    },
    "executionInfo": {
     "elapsed": 450,
     "status": "ok",
     "timestamp": 1652363871120,
     "user": {
      "displayName": "Frederik Strøm Friborg",
      "userId": "08269675509979250915"
     },
     "user_tz": -120
    },
    "id": "j1L2nhQAPCCt",
    "outputId": "a4391246-bbae-4a9f-9ed8-f36799e21aeb"
   },
   "outputs": [],
   "source": [
    "df_classifier"
   ]
  },
  {
   "cell_type": "code",
   "execution_count": null,
   "metadata": {
    "id": "U-m4u3U7RYiH"
   },
   "outputs": [],
   "source": [
    "df_classifier[\"joined\"] = df_classifier[\"lemmas\"].apply(lambda x: \" \".join(eval(x)))"
   ]
  },
  {
   "cell_type": "code",
   "execution_count": null,
   "metadata": {
    "id": "HsG4rT3FW4Z4"
   },
   "outputs": [],
   "source": [
    "df_classifier[\"target\"] = 0"
   ]
  },
  {
   "cell_type": "code",
   "execution_count": null,
   "metadata": {
    "colab": {
     "base_uri": "https://localhost:8080/",
     "height": 815
    },
    "executionInfo": {
     "elapsed": 628,
     "status": "ok",
     "timestamp": 1652363881022,
     "user": {
      "displayName": "Frederik Strøm Friborg",
      "userId": "08269675509979250915"
     },
     "user_tz": -120
    },
    "id": "XpBFRl_3bS8L",
    "outputId": "6be4f158-044d-483f-ec41-400b2fd181d4"
   },
   "outputs": [],
   "source": [
    "df_combined = df_classifier.append(df_gpt3)\n",
    "df_combined = df_combined.reset_index(drop=True)\n",
    "df_combined"
   ]
  },
  {
   "cell_type": "code",
   "execution_count": null,
   "metadata": {
    "id": "TTNJy1spkE3V"
   },
   "outputs": [],
   "source": [
    "df_combined.to_csv(\"/content/drive/MyDrive/UNIVERSITET/08_semester/Artificial Intelligence & Machine Learning/Code/df_combined.csv\")"
   ]
  },
  {
   "cell_type": "code",
   "execution_count": null,
   "metadata": {
    "id": "BemVLbjCfyXK"
   },
   "outputs": [],
   "source": [
    "to_bogusz = pd.concat([X_test, y_test], axis=1)\n",
    "to_bogusz.to_csv(\"/content/drive/MyDrive/UNIVERSITET/08_semester/Artificial Intelligence & Machine Learning/Code/to_bogusz.csv\", index=False)"
   ]
  },
  {
   "cell_type": "code",
   "execution_count": null,
   "metadata": {
    "id": "tiPKLFaHntX3"
   },
   "outputs": [],
   "source": [
    "df_combined = pd.read_csv(\"/content/drive/MyDrive/UNIVERSITET/08_semester/Artificial Intelligence & Machine Learning/Code/df_combined.csv\", )\n",
    "df_combined = df_combined.drop(columns=[\"Unnamed: 0\"])\n",
    "\n",
    "X, y = df_combined.loc[:, df_combined.columns != 'target'], df_combined[\"target\"]\n",
    "\n",
    "X_train, X_test, y_train, y_test = train_test_split(X, y, test_size=0.2)"
   ]
  },
  {
   "cell_type": "code",
   "execution_count": null,
   "metadata": {
    "id": "gWkq69JghJAk"
   },
   "outputs": [],
   "source": [
    "# Taking no chances here, saving the train test split\n",
    "X_train.to_csv(\"/content/drive/MyDrive/UNIVERSITET/08_semester/Artificial Intelligence & Machine Learning/Code/X_train.csv\", index=False)\n",
    "X_test.to_csv(\"/content/drive/MyDrive/UNIVERSITET/08_semester/Artificial Intelligence & Machine Learning/Code/X_test.csv\", index=False)\n",
    "y_train.to_csv(\"/content/drive/MyDrive/UNIVERSITET/08_semester/Artificial Intelligence & Machine Learning/Code/y_train.csv\", index=False)\n",
    "y_test.to_csv(\"/content/drive/MyDrive/UNIVERSITET/08_semester/Artificial Intelligence & Machine Learning/Code/y_test.csv\", index=False)"
   ]
  },
  {
   "cell_type": "code",
   "execution_count": null,
   "metadata": {
    "colab": {
     "base_uri": "https://localhost:8080/",
     "height": 140
    },
    "executionInfo": {
     "elapsed": 348,
     "status": "ok",
     "timestamp": 1651936665006,
     "user": {
      "displayName": "Frederik Strøm Friborg",
      "userId": "08269675509979250915"
     },
     "user_tz": -120
    },
    "id": "vlpxePkiisN1",
    "outputId": "6a43560a-2b70-47ee-cca3-5874a736c10f"
   },
   "outputs": [],
   "source": [
    "to_bogusz = pd.read_csv(\"/content/drive/MyDrive/UNIVERSITET/08_semester/Artificial Intelligence & Machine Learning/Code/to_bogusz.csv\")\n",
    "to_bogusz = to_bogusz.reset_index(drop=True)\n",
    "to_bogusz[\"content\"][1]"
   ]
  },
  {
   "cell_type": "code",
   "execution_count": null,
   "metadata": {
    "id": "q96E1hQr0225"
   },
   "outputs": [],
   "source": [
    "def text_to_sentences(text):\n",
    "    assert type(text) == type(\"\") or type(text) == np.str_\n",
    "    return re.split(\"[\\.\\?\\!]\", text)\n",
    "\n",
    "def cut_final(text):\n",
    "    sep = \".\"\n",
    "    text = \" \".join(text.split()[0:250])\n",
    "    text = sep.join(text.split(sep)[:-1])+\".\"\n",
    "    return text\n",
    "\n",
    "to_bogusz[\"content\"] = to_bogusz[\"content\"].apply(lambda x: cut_final(x))"
   ]
  },
  {
   "cell_type": "code",
   "execution_count": null,
   "metadata": {
    "id": "w8ESRFMX-Ff4"
   },
   "outputs": [],
   "source": [
    "to_bogusz['word_count'] = to_bogusz['content'].apply(lambda x: len(x.split()))"
   ]
  },
  {
   "cell_type": "code",
   "execution_count": null,
   "metadata": {
    "id": "z6xhuuTx99pD"
   },
   "outputs": [],
   "source": [
    "to_bogusz['word_count'] = to_bogusz['content'].apply(lambda x: len(x.split()))"
   ]
  },
  {
   "cell_type": "code",
   "execution_count": null,
   "metadata": {
    "colab": {
     "base_uri": "https://localhost:8080/"
    },
    "executionInfo": {
     "elapsed": 417,
     "status": "ok",
     "timestamp": 1651934362893,
     "user": {
      "displayName": "Frederik Strøm Friborg",
      "userId": "08269675509979250915"
     },
     "user_tz": -120
    },
    "id": "-ighLcJq0Y_F",
    "outputId": "fda5f6b5-fcc3-4760-e7a0-7e44ad314cb7"
   },
   "outputs": [],
   "source": [
    "pd.set_option(\"display.max_rows\", None)\n",
    "print(to_bogusz[\"content\"][22])"
   ]
  },
  {
   "cell_type": "code",
   "execution_count": null,
   "metadata": {
    "id": "VRpr2eYG8ZYF"
   },
   "outputs": [],
   "source": [
    "to_bogusz.to_csv(\"survey_articles.csv\", index=False)"
   ]
  },
  {
   "cell_type": "code",
   "execution_count": null,
   "metadata": {
    "id": "dOBbRr7M8DFR"
   },
   "outputs": [],
   "source": [
    "def grammar_score(text, tool):\n",
    "    error_count = 0\n",
    "    for sentence in text_to_sentences(text):\n",
    "        check = tool.check(sentence)\n",
    "        sentence_errors = len(check)\n",
    "        error_count += sentence_errors\n",
    "    \n",
    "    word_count = re.split('\\s+', text)\n",
    "    word_count = len([tok for tok in word_count if tok not in stop_words])\n",
    "\n",
    "    error_score = 1 - (float(error_count) / float(word_count))\n",
    "\n",
    "    return error_score"
   ]
  },
  {
   "cell_type": "code",
   "execution_count": null,
   "metadata": {
    "id": "BWe6UC-zAA05"
   },
   "outputs": [],
   "source": [
    "to_bogusz.sort_values([\"target\", \"word_count\"])"
   ]
  },
  {
   "cell_type": "markdown",
   "metadata": {
    "id": "b8bFUGYsMR7D"
   },
   "source": [
    "## Step 3: Classification tasks (Dummy / MLP)"
   ]
  },
  {
   "cell_type": "markdown",
   "metadata": {
    "id": "KRBEyQcHmimS"
   },
   "source": [
    "#### Initialise the TfidfVectorizer and transform the values\n",
    "Using unigrams, bigrams, and trigrams for vectorization"
   ]
  },
  {
   "cell_type": "markdown",
   "metadata": {
    "id": "I7YtQ7VklJvo"
   },
   "source": [
    "#### Import data in dataframes"
   ]
  },
  {
   "cell_type": "code",
   "execution_count": null,
   "metadata": {
    "executionInfo": {
     "elapsed": 2679,
     "status": "ok",
     "timestamp": 1653039263576,
     "user": {
      "displayName": "Frederik Strøm Friborg",
      "userId": "08269675509979250915"
     },
     "user_tz": -120
    },
    "id": "DWNIzPUtM_Hu"
   },
   "outputs": [],
   "source": [
    "X_train = pd.read_csv(\"/content/drive/MyDrive/UNIVERSITET/08_semester/Artificial Intelligence & Machine Learning/Code/X_train.csv\")\n",
    "X_test = pd.read_csv(\"/content/drive/MyDrive/UNIVERSITET/08_semester/Artificial Intelligence & Machine Learning/Code/X_test.csv\")\n",
    "y_train = pd.read_csv(\"/content/drive/MyDrive/UNIVERSITET/08_semester/Artificial Intelligence & Machine Learning/Code/y_train.csv\")\n",
    "y_test = pd.read_csv(\"/content/drive/MyDrive/UNIVERSITET/08_semester/Artificial Intelligence & Machine Learning/Code/y_test.csv\")\n",
    "\n",
    "df_combined = pd.read_csv(\"/content/drive/MyDrive/UNIVERSITET/08_semester/Artificial Intelligence & Machine Learning/Code/df_combined.csv\", )\n",
    "df_combined = df_combined.drop(columns=[\"Unnamed: 0\"])"
   ]
  },
  {
   "cell_type": "code",
   "execution_count": null,
   "metadata": {
    "colab": {
     "base_uri": "https://localhost:8080/"
    },
    "executionInfo": {
     "elapsed": 667,
     "status": "ok",
     "timestamp": 1653039304312,
     "user": {
      "displayName": "Frederik Strøm Friborg",
      "userId": "08269675509979250915"
     },
     "user_tz": -120
    },
    "id": "Q9f2MWHP0YTw",
    "outputId": "d9d0ea20-b9a3-4d51-fd53-f28cfcff3910"
   },
   "outputs": [],
   "source": [
    "len(X_train)"
   ]
  },
  {
   "cell_type": "code",
   "execution_count": null,
   "metadata": {
    "executionInfo": {
     "elapsed": 523,
     "status": "ok",
     "timestamp": 1653039267271,
     "user": {
      "displayName": "Frederik Strøm Friborg",
      "userId": "08269675509979250915"
     },
     "user_tz": -120
    },
    "id": "LzZ6wj42O-fm"
   },
   "outputs": [],
   "source": [
    "X, y = df_combined[\"joined\"].tolist(), df_combined[\"target\"].tolist()\n",
    "\n",
    "X_train = X_train.joined.tolist()\n",
    "X_test = X_test.joined.tolist()\n",
    "y_train = y_train.target.tolist()\n",
    "y_test = y_test.target.tolist()"
   ]
  },
  {
   "cell_type": "code",
   "execution_count": null,
   "metadata": {
    "executionInfo": {
     "elapsed": 1885,
     "status": "ok",
     "timestamp": 1653003063557,
     "user": {
      "displayName": "Frederik Strøm Friborg",
      "userId": "08269675509979250915"
     },
     "user_tz": -120
    },
    "id": "j-hGCLCUiv35"
   },
   "outputs": [],
   "source": [
    "vectorizer = TfidfVectorizer(ngram_range=(1, 3))\n",
    "vectorizer.fit(X)\n",
    "\n",
    "X_train_transformed = vectorizer.transform(X_train)\n",
    "X_test_transformed = vectorizer.transform(X_test)"
   ]
  },
  {
   "cell_type": "markdown",
   "metadata": {
    "id": "ueuyqI7klpzV"
   },
   "source": [
    "### Baseline classifier"
   ]
  },
  {
   "cell_type": "markdown",
   "metadata": {
    "id": "-71IRWxSszXQ"
   },
   "source": [
    "#### Multinomial naive bayes baseline classifier"
   ]
  },
  {
   "cell_type": "code",
   "execution_count": null,
   "metadata": {
    "colab": {
     "base_uri": "https://localhost:8080/"
    },
    "executionInfo": {
     "elapsed": 294,
     "status": "ok",
     "timestamp": 1652963651231,
     "user": {
      "displayName": "Frederik Strøm Friborg",
      "userId": "08269675509979250915"
     },
     "user_tz": -120
    },
    "id": "yNMhdAAipE1v",
    "outputId": "7620a017-bbb0-46a4-a03b-19ebbb985263"
   },
   "outputs": [],
   "source": [
    "nb = MultinomialNB()\n",
    "nb.fit(X_train_transformed, y_train)\n",
    "nb_train_pred = nb.predict(X_train_transformed)\n",
    "nb_test_pred = nb.predict(X_test_transformed)\n",
    "\n",
    "print('Accuracy score: ', round(accuracy_score(y_test, nb_test_pred), 4))\n",
    "print('F1 Score: ', round(f1_score(y_test, nb_test_pred), 4))\n",
    "print('Recall score: ', round(recall_score(y_test, nb_test_pred), 4))\n",
    "print('Precision Score: ', round(roc_auc_score(y_test, nb_test_pred), 4))"
   ]
  },
  {
   "cell_type": "code",
   "execution_count": null,
   "metadata": {
    "colab": {
     "base_uri": "https://localhost:8080/",
     "height": 279
    },
    "executionInfo": {
     "elapsed": 921,
     "status": "ok",
     "timestamp": 1652964672623,
     "user": {
      "displayName": "Frederik Strøm Friborg",
      "userId": "08269675509979250915"
     },
     "user_tz": -120
    },
    "id": "Zm4uYzL4sLps",
    "outputId": "d0b817ed-1db8-45c8-d9f7-8b919e631e88"
   },
   "outputs": [],
   "source": [
    "nb_conf = ConfusionMatrixDisplay.from_predictions(y_test, nb_test_pred, display_labels=[\"Human\", \"AI\"], cmap=plt.cm.Blues)"
   ]
  },
  {
   "cell_type": "markdown",
   "metadata": {
    "id": "3dBRTPQLSZE5"
   },
   "source": [
    "### Support vector machine\n"
   ]
  },
  {
   "cell_type": "markdown",
   "metadata": {
    "id": "OSzagfSKnJ02"
   },
   "source": [
    "#### Support vector machine optimised with GridsearchCV and displayed in confusion matrix"
   ]
  },
  {
   "cell_type": "code",
   "execution_count": null,
   "metadata": {
    "colab": {
     "base_uri": "https://localhost:8080/"
    },
    "executionInfo": {
     "elapsed": 138607,
     "status": "ok",
     "timestamp": 1652962716141,
     "user": {
      "displayName": "Frederik Strøm Friborg",
      "userId": "08269675509979250915"
     },
     "user_tz": -120
    },
    "id": "Jugo9qWUWjq2",
    "outputId": "92526bc5-362b-4ecd-b8fe-f27190843f2b"
   },
   "outputs": [],
   "source": [
    "svc = SVC(random_state=42)\n",
    "\n",
    "\n",
    "C = [0.01, 0.1, 1, 10, 100]\n",
    "gamma = [0.00001, 0.0001, 00.1, 0.1, 1]\n",
    "kernel = ['linear', 'rbf', 'poly', 'sigmoid']\n",
    "\n",
    "param_grid = {\n",
    "    \"C\": C,\n",
    "    \"gamma\": gamma,\n",
    "    \"kernel\": kernel,\n",
    "}\n",
    "\n",
    "svc_grid = GridSearchCV(svc, param_grid=param_grid, cv=10, n_jobs=-1, verbose=2)\n",
    "svc_grid.fit(X_train_transformed, y_train)\n",
    "svc_grid_pred = svc_grid.best_estimator_.predict(X_test_transformed)\n",
    "\n",
    "print('Accuracy score: ', round(accuracy_score(y_test, svc_grid_pred), 4))\n",
    "print('F1 Score: ', round(f1_score(y_test, svc_grid_pred), 4))\n",
    "print('Recall score: ', round(recall_score(y_test, svc_grid_pred), 4))\n",
    "print('Precision Score: ', round(roc_auc_score(y_test, svc_grid_pred), 4))"
   ]
  },
  {
   "cell_type": "code",
   "execution_count": null,
   "metadata": {
    "colab": {
     "base_uri": "https://localhost:8080/"
    },
    "executionInfo": {
     "elapsed": 262873,
     "status": "ok",
     "timestamp": 1653011551391,
     "user": {
      "displayName": "Frederik Strøm Friborg",
      "userId": "08269675509979250915"
     },
     "user_tz": -120
    },
    "id": "Oj8P5ZlF5AWI",
    "outputId": "ce48f40c-8fd6-4b54-d7b7-d660392404a4"
   },
   "outputs": [],
   "source": [
    "svc = SVC(random_state=42)\n",
    "\n",
    "\n",
    "C = [1, 10, 50, 100, 200, 300, 1000]\n",
    "gamma = [0.00001, 0.0001, 00.1, 0.1, 1]\n",
    "kernel = ['linear', 'rbf', 'poly', 'sigmoid']\n",
    "\n",
    "param_grid = {\n",
    "    \"C\": C,\n",
    "    \"gamma\": gamma,\n",
    "    \"kernel\": kernel,\n",
    "}\n",
    "\n",
    "svc_grid = GridSearchCV(svc, param_grid=param_grid, cv=10, verbose=3)\n",
    "svc_grid.fit(X_train_transformed, y_train)\n",
    "svc_grid_pred = svc_grid.best_estimator_.predict(X_test_transformed)\n",
    "\n",
    "print('Accuracy score: ', round(accuracy_score(y_test, svc_grid_pred), 4))\n",
    "print('F1 Score: ', round(f1_score(y_test, svc_grid_pred), 4))\n",
    "print('Recall score: ', round(recall_score(y_test, svc_grid_pred), 4))\n",
    "print('Precision Score: ', round(roc_auc_score(y_test, svc_grid_pred), 4))"
   ]
  },
  {
   "cell_type": "code",
   "execution_count": null,
   "metadata": {
    "colab": {
     "base_uri": "https://localhost:8080/",
     "height": 283
    },
    "executionInfo": {
     "elapsed": 810,
     "status": "ok",
     "timestamp": 1652965122752,
     "user": {
      "displayName": "Frederik Strøm Friborg",
      "userId": "08269675509979250915"
     },
     "user_tz": -120
    },
    "id": "lIxjBcq1ZP4F",
    "outputId": "57b62d5c-56cc-478c-e87e-4f07a5b67afa"
   },
   "outputs": [],
   "source": [
    "conf = ConfusionMatrixDisplay.from_predictions(y_test, svc_grid_pred, display_labels=[\"Human\", \"AI\"], cmap=plt.cm.Blues)"
   ]
  },
  {
   "cell_type": "markdown",
   "metadata": {
    "id": "mxqnzcIf9BeE"
   },
   "source": [
    "#### XGBoost classifier to compare with SVM"
   ]
  },
  {
   "cell_type": "code",
   "execution_count": null,
   "metadata": {
    "id": "ZQISjvflzx8f"
   },
   "outputs": [],
   "source": [
    "def algorithm_pipeline(X_train_data, X_test_data, y_train_data, y_test_data, \n",
    "                       model, param_grid, cv=10, scoring_fit='neg_mean_squared_error',\n",
    "                       do_probabilities = False):\n",
    "    gs = GridSearchCV(\n",
    "        estimator=model,\n",
    "        param_grid=param_grid, \n",
    "        cv=cv, \n",
    "        n_jobs=-1, \n",
    "        scoring=scoring_fit,\n",
    "        verbose=2\n",
    "    )\n",
    "    fitted_model = gs.fit(X_train_data, y_train_data)\n",
    "    \n",
    "    if do_probabilities:\n",
    "      pred = fitted_model.predict_proba(X_test_data)\n",
    "    else:\n",
    "      pred = fitted_model.predict(X_test_data)\n",
    "    \n",
    "    return fitted_model, pred"
   ]
  },
  {
   "cell_type": "code",
   "execution_count": null,
   "metadata": {
    "colab": {
     "base_uri": "https://localhost:8080/"
    },
    "executionInfo": {
     "elapsed": 4039679,
     "status": "ok",
     "timestamp": 1653007113092,
     "user": {
      "displayName": "Frederik Strøm Friborg",
      "userId": "08269675509979250915"
     },
     "user_tz": -120
    },
    "id": "3b03HuRB95Np",
    "outputId": "54fb9bb6-acfc-43eb-b6f4-eff5cb7c23ff"
   },
   "outputs": [],
   "source": [
    "xgb_model = xgb.XGBClassifier(random_state=42, n_estimators=50, nthread=-1)\n",
    "param_grid = {\n",
    "    'colsample_bytree':[0.8],\n",
    "    'max_depth': [3,4],\n",
    "    'min_child_weight': [4,5],\n",
    "    'subsample':[i/10.0 for i in range(6,11)],\n",
    "    'gamma':[i/10.0 for i in range(3,6)],\n",
    "}\n",
    "\n",
    "xgb_grid = GridSearchCV(xgb_model, param_grid=param_grid, verbose=3, cv=10)\n",
    "xgb_grid.fit(X_train_transformed, y_train)\n",
    "xgb_grid_pred = xgb_grid.predict(X_test_transformed)\n",
    "\n",
    "print('Accuracy score: ', round(accuracy_score(y_test, xgb_grid_pred), 4))\n",
    "print('F1 Score: ', round(f1_score(y_test, xgb_grid_pred), 4))\n",
    "print('Recall score: ', round(recall_score(y_test, xgb_grid_pred), 4))\n",
    "print('Precision Score: ', round(roc_auc_score(y_test, xgb_grid_pred), 4))"
   ]
  },
  {
   "cell_type": "code",
   "execution_count": null,
   "metadata": {
    "colab": {
     "base_uri": "https://localhost:8080/"
    },
    "executionInfo": {
     "elapsed": 218,
     "status": "ok",
     "timestamp": 1653010547860,
     "user": {
      "displayName": "Frederik Strøm Friborg",
      "userId": "08269675509979250915"
     },
     "user_tz": -120
    },
    "id": "8RFJ0fSWGvjb",
    "outputId": "7c031185-ad55-4cd7-ca3b-e33a84d0fdd5"
   },
   "outputs": [],
   "source": [
    "print(xgb_grid.best_params_)"
   ]
  },
  {
   "cell_type": "code",
   "execution_count": null,
   "metadata": {
    "colab": {
     "base_uri": "https://localhost:8080/"
    },
    "executionInfo": {
     "elapsed": 615,
     "status": "ok",
     "timestamp": 1653010511105,
     "user": {
      "displayName": "Frederik Strøm Friborg",
      "userId": "08269675509979250915"
     },
     "user_tz": -120
    },
    "id": "cLattAclGntM",
    "outputId": "b4acb4b5-cb2d-46ae-eeb7-204d8e14c6ae"
   },
   "outputs": [],
   "source": [
    "print('Accuracy score: ', round(accuracy_score(y_test, xgb_grid_pred), 4))\n",
    "print('F1 Score: ', round(f1_score(y_test, xgb_grid_pred), 4))\n",
    "print('Recall score: ', round(recall_score(y_test, xgb_grid_pred), 4))\n",
    "print('Precision Score: ', round(roc_auc_score(y_test, xgb_grid_pred), 4))"
   ]
  },
  {
   "cell_type": "code",
   "execution_count": null,
   "metadata": {
    "colab": {
     "base_uri": "https://localhost:8080/",
     "height": 279
    },
    "executionInfo": {
     "elapsed": 610,
     "status": "ok",
     "timestamp": 1653007700820,
     "user": {
      "displayName": "Frederik Strøm Friborg",
      "userId": "08269675509979250915"
     },
     "user_tz": -120
    },
    "id": "GnKBPzDI7nn5",
    "outputId": "796510de-8958-465c-d26a-a0ced482fe96"
   },
   "outputs": [],
   "source": [
    "xgb_conf = ConfusionMatrixDisplay.from_predictions(y_test, xgb_grid_pred, display_labels=[\"Human\", \"AI\"], cmap=plt.cm.Blues)"
   ]
  },
  {
   "cell_type": "code",
   "execution_count": null,
   "metadata": {
    "colab": {
     "base_uri": "https://localhost:8080/"
    },
    "executionInfo": {
     "elapsed": 5409,
     "status": "ok",
     "timestamp": 1652986300055,
     "user": {
      "displayName": "Frederik Strøm Friborg",
      "userId": "08269675509979250915"
     },
     "user_tz": -120
    },
    "id": "-iLwueLTb4Uv",
    "outputId": "f9bdffab-9769-4b83-b612-8f6192b23f5b"
   },
   "outputs": [],
   "source": [
    "xgb_model = xgb.XGBClassifier(random_state=42, n_estimators=10, max_depth=6, max_leaves=2, min_child_weight=8)\n",
    "\n",
    "xgb_model.fit(X_train_transformed, y_train)\n",
    "xgb_pred = xgb_model.predict(X_test_transformed)\n",
    "\n",
    "print('Accuracy score: ', round(accuracy_score(y_test, xgb_pred), 4))\n",
    "print('F1 Score: ', round(f1_score(y_test, xgb_pred), 4))\n",
    "print('Recall score: ', round(recall_score(y_test, xgb_pred), 4))\n",
    "print('Precision Score: ', round(roc_auc_score(y_test, xgb_pred), 4))"
   ]
  },
  {
   "cell_type": "markdown",
   "metadata": {
    "id": "iUgHf79Vo_4h"
   },
   "source": [
    "#### Extra: Spacy linguistic analyses"
   ]
  },
  {
   "cell_type": "code",
   "execution_count": null,
   "metadata": {
    "colab": {
     "base_uri": "https://localhost:8080/",
     "height": 424
    },
    "executionInfo": {
     "elapsed": 1549,
     "status": "ok",
     "timestamp": 1652809338795,
     "user": {
      "displayName": "Frederik Strøm Friborg",
      "userId": "08269675509979250915"
     },
     "user_tz": -120
    },
    "id": "5aX18WaK26lC",
    "outputId": "9da15e85-070b-47bd-acd9-ca31069edbbe"
   },
   "outputs": [],
   "source": [
    "nlp = spacy.load(\"en_core_web_sm\")\n",
    "\n",
    "text = df_combined[\"content\"][0]\n",
    "\n",
    "doc = nlp(text)\n",
    "\n",
    "token_table = []\n",
    "for token in doc:\n",
    "    token_table.append([token.text, token.lemma_, token.pos_, token.tag_, token.dep_,\n",
    "            token.shape_, token.is_alpha, token.is_stop])\n",
    "\n",
    "columns = [\"TEXT\", \"LEMMA\", \"POS\", \"TAG\", \"DEP\", \"SHAPE\", \"IS_ALPHA\", \"IS_STOP\"]\n",
    "token_df = pd.DataFrame(token_table, columns=columns)\n",
    "token_df"
   ]
  },
  {
   "cell_type": "code",
   "execution_count": null,
   "metadata": {
    "id": "dN54O87wI2wt"
   },
   "outputs": [],
   "source": [
    "ax = plt.subplot(111, frame_on=False) # no visible frame\n",
    "ax.xaxis.set_visible(False)  # hide the x axis\n",
    "ax.yaxis.set_visible(False)  # hide the y axis\n",
    "\n",
    "table(ax, token_df[0:50])"
   ]
  },
  {
   "cell_type": "code",
   "execution_count": null,
   "metadata": {
    "colab": {
     "base_uri": "https://localhost:8080/"
    },
    "executionInfo": {
     "elapsed": 246,
     "status": "ok",
     "timestamp": 1652815912956,
     "user": {
      "displayName": "Frederik Strøm Friborg",
      "userId": "08269675509979250915"
     },
     "user_tz": -120
    },
    "id": "2UBpB_wvgJ9l",
    "outputId": "cbb83f51-704e-4ad9-9936-de6677213059"
   },
   "outputs": [],
   "source": [
    "X_test[\"category\"].value_counts()"
   ]
  },
  {
   "cell_type": "code",
   "execution_count": null,
   "metadata": {
    "colab": {
     "base_uri": "https://localhost:8080/"
    },
    "executionInfo": {
     "elapsed": 264,
     "status": "ok",
     "timestamp": 1652829000948,
     "user": {
      "displayName": "Frederik Strøm Friborg",
      "userId": "08269675509979250915"
     },
     "user_tz": -120
    },
    "id": "5lRrM42YN9yh",
    "outputId": "5ebef7cc-8c03-4191-f7e0-4473e264b9c4"
   },
   "outputs": [],
   "source": [
    "df_combined[\"word_count\"]"
   ]
  },
  {
   "cell_type": "markdown",
   "metadata": {
    "id": "5ujPATPRlS6L"
   },
   "source": [
    "#### Create classifier and display confusion matrix"
   ]
  },
  {
   "cell_type": "code",
   "execution_count": null,
   "metadata": {
    "colab": {
     "base_uri": "https://localhost:8080/"
    },
    "executionInfo": {
     "elapsed": 425,
     "status": "ok",
     "timestamp": 1652872853244,
     "user": {
      "displayName": "Frederik Strøm Friborg",
      "userId": "08269675509979250915"
     },
     "user_tz": -120
    },
    "id": "Q-AW5C2zPHRt",
    "outputId": "f06b8196-7619-496e-cf8f-06c904beade0"
   },
   "outputs": [],
   "source": [
    "clf_dummy = DummyClassifier(strategy=\"most_frequent\").fit(X_train_transformed, y_train)\n",
    "pred_dummy = clf_dummy.predict(X_test_transformed)\n",
    "\n",
    "print('Accuracy score: ', round(accuracy_score(y_test, pred_dummy), 4))\n",
    "print('F1 Score: ', round(f1_score(y_test, pred_dummy), 4))\n",
    "print('Recall score: ', round(recall_score(y_test, pred_dummy), 4))\n",
    "print('Precision Score: ', round(roc_auc_score(y_test, pred_dummy), 4))"
   ]
  },
  {
   "cell_type": "code",
   "execution_count": null,
   "metadata": {
    "colab": {
     "base_uri": "https://localhost:8080/",
     "height": 279
    },
    "executionInfo": {
     "elapsed": 560,
     "status": "ok",
     "timestamp": 1652872857377,
     "user": {
      "displayName": "Frederik Strøm Friborg",
      "userId": "08269675509979250915"
     },
     "user_tz": -120
    },
    "id": "H5EWVL0VvDYm",
    "outputId": "6a4c4126-1ca6-4a2c-b55a-7ce037ff72ac"
   },
   "outputs": [],
   "source": [
    "confusion_matrix = ConfusionMatrixDisplay.from_estimator(clf_dummy, X_test, y_test, display_labels=[\"Human\", \"AI\"], cmap=plt.cm.Blues)"
   ]
  },
  {
   "cell_type": "markdown",
   "metadata": {
    "id": "hM9euDu1LtFC"
   },
   "source": [
    "#### Confusion matrix for human results"
   ]
  },
  {
   "cell_type": "code",
   "execution_count": null,
   "metadata": {
    "colab": {
     "base_uri": "https://localhost:8080/",
     "height": 285
    },
    "executionInfo": {
     "elapsed": 319,
     "status": "ok",
     "timestamp": 1653033150004,
     "user": {
      "displayName": "Frederik Strøm Friborg",
      "userId": "08269675509979250915"
     },
     "user_tz": -120
    },
    "id": "dsXstUl0Lr-I",
    "outputId": "e7cbc35b-5b09-41dc-f46b-af51d7dfb0be"
   },
   "outputs": [],
   "source": [
    "import matplotlib.pyplot as plt\n",
    "import seaborn as sns\n",
    "import numpy as np\n",
    "\n",
    "\n",
    "tp, tn, fp, fn = 98, 117, 94, 120\n",
    "\n",
    "cm = np.zeros((2, 2))\n",
    "cm[0][0] = tn\n",
    "cm[0][1] = fp\n",
    "cm[1][0] = fn\n",
    "cm[1][1] = tp\n",
    "\n",
    "fig, ax = plt.subplots(figsize=(5,5))\n",
    "\n",
    "ax = sns.heatmap(cm, annot=True, ax=ax, square=True,\n",
    "            cmap=plt.cm.Blues, vmin=0, vmax=130, fmt=\".0f\",\n",
    "            xticklabels=[\"Human\", \"AI\"],\n",
    "            yticklabels=[\"Human\", \"AI\"],\n",
    "            cbar_kws={\"shrink\": .82})\n",
    "\n",
    "for _, spine in ax.spines.items():\n",
    "    spine.set_visible(True)\n",
    "    spine.set(linewidth=1)\n",
    "\n",
    "ax.set_xlabel('Predicted label', fontdict={'fontsize': 10})\n",
    "ax.set_ylabel('True label', fontdict={'fontsize': 10})\n",
    "\n",
    "plt.show()"
   ]
  },
  {
   "cell_type": "code",
   "execution_count": null,
   "metadata": {
    "executionInfo": {
     "elapsed": 239,
     "status": "ok",
     "timestamp": 1653030814007,
     "user": {
      "displayName": "Frederik Strøm Friborg",
      "userId": "08269675509979250915"
     },
     "user_tz": -120
    },
    "id": "DLNMtWpRQ3X2"
   },
   "outputs": [],
   "source": [
    "def convert_to_float(tp, tn, fp, fn):\n",
    "    tp = float(tp)\n",
    "    tn = float(tn)\n",
    "    fp = float(fp)\n",
    "    fn = float(fn)\n",
    "    return tp, fn, fp, fn\n",
    "\n",
    "def acc_score():\n",
    "    acc = (tp + tn)/(tp + tn + fp + fn)\n",
    "    return acc\n",
    "\n",
    "def prec_score():\n",
    "    prec = tp / (tp + fp)\n",
    "    return prec\n",
    "\n",
    "def recall():\n",
    "    rec = tp / (tp + fn)\n",
    "    return rec\n",
    "\n",
    "def f1_score():\n",
    "    f1 = 2 * (prec_score() * recall()) / (prec_score() + recall())\n",
    "    return f1"
   ]
  },
  {
   "cell_type": "code",
   "execution_count": null,
   "metadata": {
    "colab": {
     "base_uri": "https://localhost:8080/"
    },
    "executionInfo": {
     "elapsed": 9,
     "status": "ok",
     "timestamp": 1653030326135,
     "user": {
      "displayName": "Frederik Strøm Friborg",
      "userId": "08269675509979250915"
     },
     "user_tz": -120
    },
    "id": "D7lH83J9SFr9",
    "outputId": "2a81d832-5233-4012-ed1e-a38a04c5b59a"
   },
   "outputs": [],
   "source": [
    "tp, tn, fp, fn = convert_to_float(tp, tn, fp, fn)\n",
    "type(tp)"
   ]
  },
  {
   "cell_type": "code",
   "execution_count": null,
   "metadata": {
    "colab": {
     "base_uri": "https://localhost:8080/"
    },
    "executionInfo": {
     "elapsed": 6,
     "status": "ok",
     "timestamp": 1653030816858,
     "user": {
      "displayName": "Frederik Strøm Friborg",
      "userId": "08269675509979250915"
     },
     "user_tz": -120
    },
    "id": "ZaY5zWg7SSxf",
    "outputId": "bf3ee1e0-deac-4a29-cc18-40ff58217402"
   },
   "outputs": [],
   "source": [
    "print(\"Accuracy score: {}\".format(round(acc_score(), 4)))\n",
    "print(\"Precision score: {}\".format(round(prec_score(), 4)))\n",
    "print(\"Recall: {}\".format(round(recall(), 4)))\n",
    "print(\"F1 score: {}\".format(round(f1_score(), 4)))"
   ]
  }
 ],
 "metadata": {
  "colab": {
   "collapsed_sections": [
    "iqXjG9o4kG-G"
   ],
   "name": "classifier.ipynb",
   "provenance": []
  },
  "kernelspec": {
   "display_name": "Python 3",
   "language": "python",
   "name": "python3"
  },
  "language_info": {
   "codemirror_mode": {
    "name": "ipython",
    "version": 3
   },
   "file_extension": ".py",
   "mimetype": "text/x-python",
   "name": "python",
   "nbconvert_exporter": "python",
   "pygments_lexer": "ipython3",
   "version": "3.8.10"
  }
 },
 "nbformat": 4,
 "nbformat_minor": 1
}
